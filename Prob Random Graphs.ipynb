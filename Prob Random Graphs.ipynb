{
 "cells": [
  {
   "cell_type": "code",
   "execution_count": 10,
   "id": "772197c3",
   "metadata": {},
   "outputs": [],
   "source": [
    "#ncr\n",
    "def nCr(n, r):\n",
    "    return (fact(n) / (fact(r)* fact(n - r)))"
   ]
  },
  {
   "cell_type": "code",
   "execution_count": 12,
   "id": "093a0316",
   "metadata": {},
   "outputs": [],
   "source": [
    "def fact(n):\n",
    "    res = 1\n",
    "    for i in range(2, n+1):\n",
    "        res = res * i\n",
    "         \n",
    "    return res"
   ]
  },
  {
   "cell_type": "code",
   "execution_count": 13,
   "id": "a6f4b5dd",
   "metadata": {},
   "outputs": [
    {
     "data": {
      "text/plain": [
       "15.0"
      ]
     },
     "execution_count": 13,
     "metadata": {},
     "output_type": "execute_result"
    }
   ],
   "source": [
    "nCr(6,2)\n",
    "    "
   ]
  },
  {
   "cell_type": "code",
   "execution_count": 16,
   "id": "d67a8c5a",
   "metadata": {},
   "outputs": [],
   "source": [
    "#G(n,m) if exactly m edges\n",
    "from math import comb\n",
    "import itertools as it\n",
    "def gnm(n,m):\n",
    "    M = int(nCr(n,2))\n",
    "    c = nCr(M,m)\n",
    "    p = 1/c\n",
    "    print(p)"
   ]
  },
  {
   "cell_type": "code",
   "execution_count": 17,
   "id": "aff73e93",
   "metadata": {},
   "outputs": [
    {
     "name": "stdout",
     "output_type": "stream",
     "text": [
      "0.0001998001998001998\n"
     ]
    }
   ],
   "source": [
    "gnm(6,6)\n"
   ]
  },
  {
   "cell_type": "code",
   "execution_count": 18,
   "id": "c860b6c5",
   "metadata": {},
   "outputs": [
    {
     "data": {
      "text/plain": [
       "0.0002"
      ]
     },
     "execution_count": 18,
     "metadata": {},
     "output_type": "execute_result"
    }
   ],
   "source": [
    "round(0.0001998001998001998,6)"
   ]
  },
  {
   "cell_type": "code",
   "execution_count": null,
   "id": "ffefb795",
   "metadata": {},
   "outputs": [],
   "source": []
  },
  {
   "cell_type": "code",
   "execution_count": null,
   "id": "46759767",
   "metadata": {},
   "outputs": [],
   "source": []
  },
  {
   "cell_type": "code",
   "execution_count": null,
   "id": "e3db38e4",
   "metadata": {},
   "outputs": [],
   "source": []
  },
  {
   "cell_type": "code",
   "execution_count": 19,
   "id": "ee23148e",
   "metadata": {},
   "outputs": [],
   "source": [
    "#G(n,p)\n",
    "def gnp(n,p,m):\n",
    "    M = int(nCr(n,2) - m)\n",
    "    l = p**m\n",
    "    r = (1-p)**M\n",
    "    pr = l*r\n",
    "    print(pr)"
   ]
  },
  {
   "cell_type": "code",
   "execution_count": 20,
   "id": "f543e29e",
   "metadata": {},
   "outputs": [
    {
     "name": "stdout",
     "output_type": "stream",
     "text": [
      "6.864148550699994e-05\n"
     ]
    }
   ],
   "source": [
    "gnp(6,0.3,5)"
   ]
  },
  {
   "cell_type": "code",
   "execution_count": 21,
   "id": "08dd7ae5",
   "metadata": {},
   "outputs": [
    {
     "data": {
      "text/plain": [
       "6.9e-05"
      ]
     },
     "execution_count": 21,
     "metadata": {},
     "output_type": "execute_result"
    }
   ],
   "source": [
    "round(6.864148550699994e-05,6)"
   ]
  },
  {
   "cell_type": "code",
   "execution_count": null,
   "id": "fc039390",
   "metadata": {},
   "outputs": [],
   "source": []
  }
 ],
 "metadata": {
  "kernelspec": {
   "display_name": "Python 3",
   "language": "python",
   "name": "python3"
  },
  "language_info": {
   "codemirror_mode": {
    "name": "ipython",
    "version": 3
   },
   "file_extension": ".py",
   "mimetype": "text/x-python",
   "name": "python",
   "nbconvert_exporter": "python",
   "pygments_lexer": "ipython3",
   "version": "3.8.8"
  }
 },
 "nbformat": 4,
 "nbformat_minor": 5
}
