{
 "cells": [
  {
   "cell_type": "code",
   "execution_count": 1,
   "id": "8564a62f",
   "metadata": {},
   "outputs": [
    {
     "name": "stdout",
     "output_type": "stream",
     "text": [
      "Overlap between a and b is: 0.33\n",
      "Overlap between l and m is: -1\n",
      "Overlap between c and i is: -1\n",
      "Overlap between d and e is: -1\n"
     ]
    }
   ],
   "source": [
    "#get matrix \n",
    "def getMatrix(row, column, initialiser):\n",
    "    matrix = []\n",
    "\n",
    "    for i in range(row):\n",
    "        row = []\n",
    "        for j in range(column):\n",
    "                row.append(initialiser)\n",
    "        matrix.append(row)\n",
    "    return matrix\n",
    "\n",
    "#generate adjacency matrix\n",
    "def generateMatrix(fileName, vertices, totalVertices):\n",
    "    matrix = getMatrix(totalVertices, totalVertices, 0)\n",
    "\n",
    "    file = open(fileName, \"r\")\n",
    "\n",
    "    for line in file:\n",
    "        if line:\n",
    "            node_detail = line.split(\"=\")\n",
    "            node = node_detail[0].strip()\n",
    "            edge_list = node_detail[1].split(\",\")\n",
    "            node_index = vertices.index(node)\n",
    "\n",
    "            for edge in edge_list:\n",
    "                edge = edge.strip()\n",
    "                edge_index = vertices.index(edge)\n",
    "                \n",
    "                matrix[node_index][edge_index] = 1\n",
    "                matrix[edge_index][node_index] = 1 #graph is undirected\n",
    "    return matrix\n",
    "\n",
    "#get node connection\n",
    "def getConnection(graph, node, relatenode, vertices):\n",
    "    result = []\n",
    "\n",
    "    edges = graph[vertices.index(node)]\n",
    "    relateNodeIndex = vertices.index(relatenode)\n",
    "\n",
    "    if edges[relateNodeIndex] == 0:\n",
    "        return result\n",
    "\n",
    "    for edge in range(len(edges)):\n",
    "        if edges[edge] == 1 and edge != relateNodeIndex:\n",
    "            result.append(vertices[edge])\n",
    "\n",
    "    return result\n",
    "\n",
    "\n",
    "vertices = [\"a\", \"b\", \"c\", \"d\", \"e\", \"f\", \"g\", \"h\", \"i\", \"j\", \"k\", \"l\", \"m\", \"n\"]\n",
    "\n",
    "#totalVertices = 12\n",
    "#graph = generateMatrix(\"graph.txt\", vertices, totalVertices)\n",
    "#overlap = [{\"e\":\"f\"}, {\"g\":\"l\"}, {\"j\":\"k\"}, {\"f\":\"g\"}]\n",
    "\n",
    "totalVertices = 14\n",
    "graph = generateMatrix(\"neighboroverlap.txt\", vertices, totalVertices)\n",
    "overlap = [{\"a\":\"b\"}, {\"l\":\"m\"}, {\"c\":\"i\"}, {\"d\":\"e\"}]\n",
    "\n",
    "for pair in overlap:\n",
    "    for key in pair:\n",
    "        f_edges = getConnection(graph, key, pair[key], vertices)\n",
    "        s_edges = getConnection(graph, pair[key], key, vertices)\n",
    "        common = list(set(f_edges).intersection(s_edges))\n",
    "        c_common = len(common)\n",
    "        t_edges = len(f_edges) + len(s_edges)\n",
    "\n",
    "        if c_common > 0 or t_edges > 0:\n",
    "            c_overlap = round(c_common / (t_edges - c_common), 2)\n",
    "            print(f'Overlap between {key} and {pair[key]} is: {c_overlap}')\n",
    "        else:\n",
    "            print(f'Overlap between {key} and {pair[key]} is: -1')\n",
    "\n",
    "        "
   ]
  },
  {
   "cell_type": "code",
   "execution_count": null,
   "id": "669e0298",
   "metadata": {},
   "outputs": [],
   "source": []
  }
 ],
 "metadata": {
  "kernelspec": {
   "display_name": "Python 3",
   "language": "python",
   "name": "python3"
  },
  "language_info": {
   "codemirror_mode": {
    "name": "ipython",
    "version": 3
   },
   "file_extension": ".py",
   "mimetype": "text/x-python",
   "name": "python",
   "nbconvert_exporter": "python",
   "pygments_lexer": "ipython3",
   "version": "3.8.8"
  }
 },
 "nbformat": 4,
 "nbformat_minor": 5
}
