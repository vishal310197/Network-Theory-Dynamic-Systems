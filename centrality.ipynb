{
 "cells": [
  {
   "cell_type": "code",
   "execution_count": 2,
   "id": "f6f66f49",
   "metadata": {},
   "outputs": [
    {
     "data": {
      "text/plain": [
       "'\\n[[ 1.        ]\\n [ 2.96693394]\\n [ 1.        ]\\n [ 2.801852  ]\\n [ 3.13189168]\\n [ 1.61110616]\\n [ 5.09255136]\\n [ 3.30248613]\\n [ 2.12164516]\\n [ 2.88409326]\\n [ 2.47633414]\\n [ 1.61110616]]\\n'"
      ]
     },
     "execution_count": 2,
     "metadata": {},
     "output_type": "execute_result"
    }
   ],
   "source": [
    "# Online Python compiler (interpreter) to run Python online.\n",
    "# Write Python 3 code in this online editor and run it.\n",
    "\n",
    "import numpy as np \n",
    "\n",
    "\n",
    "a = np.array(\n",
    "  [         \n",
    "        \n",
    "[0,1,0,0,1,0,0,0,0,0,0,0],\n",
    "        \n",
    "[0,0,0,0,0,0,1,0,0,0,0,0],\n",
    "        \n",
    "[0,1,0,1,0,0,1,0,0,0,0,0],\n",
    "        \n",
    "[0,1,0,0,0,0,0,1,0,0,0,0],\n",
    "        \n",
    "[0,1,0,0,0,0,1,0,1,0,0,0],\n",
    "        \n",
    "[0,0,0,0,1,0,0,0,0,0,0,0],\n",
    "        \n",
    "[0,0,0,1,0,1,0,0,0,1,1,1],\n",
    "        \n",
    "[0,0,0,1,0,0,1,0,0,0,0,0],\n",
    "        \n",
    "[0,0,0,0,0,0,0,0,0,1,0,0],\n",
    "        \n",
    "[0,0,0,0,1,0,0,0,0,0,1,0],\n",
    "        \n",
    "[0,0,0,0,0,0,1,1,1,0,0,0],\n",
    "        \n",
    "[0,0,0,0,0,0,0,1,0,0,0,0]    ]\n",
    "\n",
    "             )\n",
    "             \n",
    "\n",
    "\n",
    "d = np.array(\n",
    "  [         \n",
    "        \n",
    "[2,0,0,0,0,0,0,0,0,0,0,0],\n",
    "        \n",
    "[0,1,0,0,0,0,0,0,0,0,0,0],\n",
    "        \n",
    "[0,0,3,0,0,0,0,0,0,0,0,0],\n",
    "        \n",
    "[0,0,0,2,0,0,0,0,0,0,0,0],\n",
    "        \n",
    "[0,0,0,0,3,0,0,0,0,0,0,0],\n",
    "        \n",
    "[0,0,0,0,0,1,0,0,0,0,0,0],\n",
    "        \n",
    "[0,0,0,0,0,0,5,0,0,0,0,0],\n",
    "        \n",
    "[0,0,0,0,0,0,0,2,0,0,0,0],\n",
    "        \n",
    "[0,0,0,0,0,0,0,0,1,0,0,0],\n",
    "        \n",
    "[0,0,0,0,0,0,0,0,0,2,0,0],\n",
    "        \n",
    "[0,0,0,0,0,0,0,0,0,0,3,0],\n",
    "        \n",
    "[0,0,0,0,0,0,0,0,0,0,0,1]    ]\n",
    "\n",
    "             )\n",
    "             \n",
    "\n",
    "\n",
    "one = np.array(\n",
    "  [         \n",
    "        \n",
    "[1],\n",
    "        \n",
    "[1],\n",
    "        \n",
    "[1],\n",
    "        \n",
    "[1],\n",
    "        \n",
    "[1],\n",
    "        \n",
    "[1],\n",
    "        \n",
    "[1],\n",
    "        \n",
    "[1],\n",
    "        \n",
    "[1],\n",
    "        \n",
    "[1],\n",
    "        \n",
    "[1],\n",
    "        \n",
    "[1]    ]\n",
    "\n",
    "             )\n",
    "             \n",
    "\n",
    "\n",
    "ide = np.array(\n",
    "  [         \n",
    "        \n",
    "[1,0,0,0,0,0,0,0,0,0,0,0],\n",
    "        \n",
    "[0,1,0,0,0,0,0,0,0,0,0,0],\n",
    "        \n",
    "[0,0,1,0,0,0,0,0,0,0,0,0],\n",
    "        \n",
    "[0,0,0,1,0,0,0,0,0,0,0,0],\n",
    "        \n",
    "[0,0,0,0,1,0,0,0,0,0,0,0],\n",
    "        \n",
    "[0,0,0,0,0,1,0,0,0,0,0,0],\n",
    "        \n",
    "[0,0,0,0,0,0,1,0,0,0,0,0],\n",
    "        \n",
    "[0,0,0,0,0,0,0,1,0,0,0,0],\n",
    "        \n",
    "[0,0,0,0,0,0,0,0,1,0,0,0],\n",
    "        \n",
    "[0,0,0,0,0,0,0,0,0,1,0,0],\n",
    "        \n",
    "[0,0,0,0,0,0,0,0,0,0,1,0],\n",
    "        \n",
    "[0,0,0,0,0,0,0,0,0,0,0,1]    ]\n",
    "\n",
    "             )\n",
    "             \n",
    "\n",
    "\n",
    "\n",
    "\n",
    "d_inv = np.linalg.inv(d)\n",
    "\n",
    "\n",
    "\n",
    "\n",
    "\n",
    "#mul = np.matmul(alp, d_inv)\n",
    "\n",
    "\n",
    "#sub = ide - mul\n",
    "\n",
    "\n",
    "#inv = np.linalg.inv(sub)\n",
    "\n",
    "\n",
    "#res = np.dot(sub,one)\n",
    "\n",
    "\n",
    "\n",
    "\n",
    "\n",
    "\n",
    "\n",
    "#mul2 = np.dot(d,inv)\n",
    "\n",
    "#res = np.matmul(mul,one)\n",
    "#print(d_inv)\n",
    "\n",
    "\n",
    "#output\n",
    "'''\n",
    "[[ 1.        ]\n",
    " [ 2.96693394]\n",
    " [ 1.        ]\n",
    " [ 2.801852  ]\n",
    " [ 3.13189168]\n",
    " [ 1.61110616]\n",
    " [ 5.09255136]\n",
    " [ 3.30248613]\n",
    " [ 2.12164516]\n",
    " [ 2.88409326]\n",
    " [ 2.47633414]\n",
    " [ 1.61110616]]\n",
    "'''"
   ]
  },
  {
   "cell_type": "code",
   "execution_count": 2,
   "id": "6cb55721",
   "metadata": {},
   "outputs": [],
   "source": [
    "a_trans = np.transpose(a)"
   ]
  },
  {
   "cell_type": "code",
   "execution_count": 3,
   "id": "40df270f",
   "metadata": {},
   "outputs": [],
   "source": [
    "alp = 0.6*a_trans"
   ]
  },
  {
   "cell_type": "code",
   "execution_count": 4,
   "id": "32bec5da",
   "metadata": {},
   "outputs": [],
   "source": [
    "sub = d - alp"
   ]
  },
  {
   "cell_type": "code",
   "execution_count": 5,
   "id": "8f194af9",
   "metadata": {},
   "outputs": [],
   "source": [
    "inv = np.linalg.inv(sub)"
   ]
  },
  {
   "cell_type": "code",
   "execution_count": 6,
   "id": "babb24af",
   "metadata": {},
   "outputs": [],
   "source": [
    "mul = np.matmul(d,inv)"
   ]
  },
  {
   "cell_type": "code",
   "execution_count": 7,
   "id": "30dfbdef",
   "metadata": {},
   "outputs": [],
   "source": [
    "res = np.matmul(mul,one)"
   ]
  },
  {
   "cell_type": "code",
   "execution_count": 8,
   "id": "a58d9dc0",
   "metadata": {},
   "outputs": [
    {
     "name": "stdout",
     "output_type": "stream",
     "text": [
      "[[1.        ]\n",
      " [2.96693394]\n",
      " [1.        ]\n",
      " [2.801852  ]\n",
      " [3.13189168]\n",
      " [1.61110616]\n",
      " [5.09255136]\n",
      " [3.30248613]\n",
      " [2.12164516]\n",
      " [2.88409326]\n",
      " [2.47633414]\n",
      " [1.61110616]]\n"
     ]
    }
   ],
   "source": [
    "print(res)"
   ]
  },
  {
   "cell_type": "code",
   "execution_count": null,
   "id": "b2e91885",
   "metadata": {},
   "outputs": [],
   "source": []
  },
  {
   "cell_type": "code",
   "execution_count": null,
   "id": "e200e0a9",
   "metadata": {},
   "outputs": [],
   "source": []
  },
  {
   "cell_type": "code",
   "execution_count": null,
   "id": "5398644d",
   "metadata": {},
   "outputs": [],
   "source": []
  },
  {
   "cell_type": "code",
   "execution_count": null,
   "id": "3263e365",
   "metadata": {},
   "outputs": [],
   "source": []
  },
  {
   "cell_type": "code",
   "execution_count": 3,
   "id": "5698a281",
   "metadata": {},
   "outputs": [],
   "source": [
    "#Hubs and Authority\n",
    "ar = np.array(\n",
    "  [         \n",
    "        \n",
    "[0,0,0,0,0,0,0,0,0,0,0,0],\n",
    "        \n",
    "[1,0,0,0,0,1,0,0,0,0,0,0],\n",
    "        \n",
    "[0,1,0,1,0,0,1,0,0,0,0,0],\n",
    "        \n",
    "[0,0,0,0,0,0,0,1,0,0,0,0],\n",
    "        \n",
    "[1,0,0,0,0,0,0,0,1,0,0,0],\n",
    "        \n",
    "[0,0,0,0,1,0,0,0,0,0,0,0],\n",
    "        \n",
    "[0,1,0,0,1,0,0,0,0,0,0,0],\n",
    "        \n",
    "[0,0,0,0,0,0,1,0,0,0,0,1],\n",
    "        \n",
    "[0,0,0,0,0,0,0,0,0,1,0,0],\n",
    "        \n",
    "[0,0,0,0,0,0,1,0,0,0,0,0],\n",
    "        \n",
    "[0,0,0,0,0,0,0,1,0,1,0,0],\n",
    "        \n",
    "[0,0,0,0,0,0,0,1,0,0,0,0]    ]\n",
    "\n",
    "             )"
   ]
  },
  {
   "cell_type": "code",
   "execution_count": 4,
   "id": "d276f774",
   "metadata": {},
   "outputs": [
    {
     "name": "stdout",
     "output_type": "stream",
     "text": [
      "Authority Score\n",
      "[[2]\n",
      " [2]\n",
      " [0]\n",
      " [1]\n",
      " [2]\n",
      " [1]\n",
      " [3]\n",
      " [3]\n",
      " [1]\n",
      " [2]\n",
      " [0]\n",
      " [1]]\n"
     ]
    }
   ],
   "source": [
    "#Authority Score\n",
    "art = np.transpose(ar)\n",
    "v = np.dot(art,one)\n",
    "print(\"Authority Score\")\n",
    "print(v)"
   ]
  },
  {
   "cell_type": "code",
   "execution_count": 5,
   "id": "d4ba8273",
   "metadata": {},
   "outputs": [
    {
     "name": "stdout",
     "output_type": "stream",
     "text": [
      "Hub Score\n",
      "[[0]\n",
      " [3]\n",
      " [6]\n",
      " [3]\n",
      " [3]\n",
      " [2]\n",
      " [4]\n",
      " [4]\n",
      " [2]\n",
      " [3]\n",
      " [5]\n",
      " [3]]\n"
     ]
    }
   ],
   "source": [
    "#Hub Score\n",
    "u = np.dot(ar,v)\n",
    "print(\"Hub Score\")\n",
    "print(u)"
   ]
  },
  {
   "cell_type": "code",
   "execution_count": null,
   "id": "da00c9d2",
   "metadata": {},
   "outputs": [],
   "source": []
  },
  {
   "cell_type": "code",
   "execution_count": null,
   "id": "34381c3f",
   "metadata": {},
   "outputs": [],
   "source": []
  }
 ],
 "metadata": {
  "kernelspec": {
   "display_name": "Python 3",
   "language": "python",
   "name": "python3"
  },
  "language_info": {
   "codemirror_mode": {
    "name": "ipython",
    "version": 3
   },
   "file_extension": ".py",
   "mimetype": "text/x-python",
   "name": "python",
   "nbconvert_exporter": "python",
   "pygments_lexer": "ipython3",
   "version": "3.8.8"
  }
 },
 "nbformat": 4,
 "nbformat_minor": 5
}
