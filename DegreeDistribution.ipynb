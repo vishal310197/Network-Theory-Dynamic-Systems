{
 "cells": [
  {
   "cell_type": "code",
   "execution_count": 3,
   "id": "f6b1665c",
   "metadata": {},
   "outputs": [
    {
     "name": "stdout",
     "output_type": "stream",
     "text": [
      "G1: Frequency of degree 0 is : 0.0\n",
      "G1: Frequency of degree 1 is : 0.08\n",
      "G1: Frequency of degree 2 is : 0.17\n",
      "G1: Frequency of degree 3 is : 0.17\n",
      "G1: Frequency of degree 4 is : 0.33\n",
      "G1: Frequency of degree 5 is : 0.08\n",
      "G1: Frequency of degree 6 is : 0.08\n",
      "G1: Frequency of degree 7 is : 0.0\n",
      "G1: Frequency of degree 8 is : 0.08\n",
      "G1: Frequency of degree 9 is : 0.0\n",
      "G1: Frequency of degree 10 is : 0.0\n",
      "\n"
     ]
    }
   ],
   "source": [
    "#get matrix \n",
    "def getMatrix(row, column, initialiser):\n",
    "    matrix = []\n",
    "\n",
    "    for i in range(row):\n",
    "        row = []\n",
    "        for j in range(column):\n",
    "                row.append(initialiser)\n",
    "        matrix.append(row)\n",
    "    return matrix\n",
    "\n",
    "#generate adjacency matrix\n",
    "def generateMatrix(fileName, vertices, totalVertices):\n",
    "    matrix = getMatrix(totalVertices, totalVertices, 0)\n",
    "    \n",
    "    file = open(fileName, \"r\")\n",
    "\n",
    "    for line in file:\n",
    "        node_detail = line.split(\"=\")\n",
    "        node = node_detail[0].strip()\n",
    "        edge_list = node_detail[1].split(\",\")\n",
    "        node_index = vertices.index(node)\n",
    "\n",
    "        for edge in edge_list:\n",
    "            edge = edge.strip()\n",
    "            edge_index = vertices.index(edge)\n",
    "            \n",
    "            matrix[node_index][edge_index] = 1\n",
    "            matrix[edge_index][node_index] = 1 #graph is undirected\n",
    "    return matrix\n",
    "\n",
    "#get degree of vertices\n",
    "def getDegreeDistribution(graph, degreeCounter, totalVertices):\n",
    "    result = {}\n",
    "    degreeList = []\n",
    "    degrees = []\n",
    "\n",
    "    for degree in range(0, degreeCounter + 1):\n",
    "        degrees.append(degree)\n",
    "\n",
    "    for index in range(totalVertices):\n",
    "        edges = graph[index]\n",
    "        connection = 0\n",
    "\n",
    "        for edge in edges:\n",
    "            connection += 1 if edge == 1 else 0\n",
    "\n",
    "        degreeList.append(connection)\n",
    "\n",
    "    for degree in degrees:\n",
    "        occurences = degreeList.count(degree)\n",
    "        result[degree] = round(occurences / totalVertices, 2)\n",
    "\n",
    "    return result\n",
    "\n",
    "totalVertices = 12\n",
    "vertices = ['a','b','c','d','e','f','g','h','i','j','k','l']\n",
    "graph = generateMatrix(\"degreedist.txt\", vertices, totalVertices)\n",
    "degreeDist = getDegreeDistribution(graph, 10, totalVertices)\n",
    "\n",
    "for degree in degreeDist:\n",
    "    print(f'G1: Frequency of degree {degree} is : {degreeDist[degree]}')\n",
    "\n",
    "print()\n",
    "\n"
   ]
  },
  {
   "cell_type": "code",
   "execution_count": null,
   "id": "04d5fe74",
   "metadata": {},
   "outputs": [],
   "source": []
  }
 ],
 "metadata": {
  "kernelspec": {
   "display_name": "Python 3",
   "language": "python",
   "name": "python3"
  },
  "language_info": {
   "codemirror_mode": {
    "name": "ipython",
    "version": 3
   },
   "file_extension": ".py",
   "mimetype": "text/x-python",
   "name": "python",
   "nbconvert_exporter": "python",
   "pygments_lexer": "ipython3",
   "version": "3.8.8"
  }
 },
 "nbformat": 4,
 "nbformat_minor": 5
}
