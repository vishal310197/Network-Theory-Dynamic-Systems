{
 "cells": [
  {
   "cell_type": "code",
   "execution_count": 2,
   "id": "ed3dd01a",
   "metadata": {},
   "outputs": [],
   "source": [
    "def optimiseq(a,b,c,d,total):\n",
    "    sq1 = b**2\n",
    "    sq2 = d**2\n",
    "    twice = 2*total\n",
    "    sq3 = twice**2\n",
    "    left = (a/total) - (sq1/sq3)\n",
    "    right = (c/total) - (sq2/sq3)\n",
    "    q = left + right\n",
    "    print(q)\n",
    "    \n",
    "    \n",
    "    "
   ]
  },
  {
   "cell_type": "code",
   "execution_count": 5,
   "id": "5b990451",
   "metadata": {},
   "outputs": [
    {
     "name": "stdout",
     "output_type": "stream",
     "text": [
      "-0.013888888888888923\n"
     ]
    }
   ],
   "source": [
    "optimiseq(2,10,4,14,12)"
   ]
  },
  {
   "cell_type": "code",
   "execution_count": 6,
   "id": "d5c8cbc7",
   "metadata": {},
   "outputs": [
    {
     "data": {
      "text/plain": [
       "-0.01"
      ]
     },
     "execution_count": 6,
     "metadata": {},
     "output_type": "execute_result"
    }
   ],
   "source": [
    "round(-0.013888888888888923,2)"
   ]
  },
  {
   "cell_type": "code",
   "execution_count": null,
   "id": "6da45331",
   "metadata": {},
   "outputs": [],
   "source": []
  }
 ],
 "metadata": {
  "kernelspec": {
   "display_name": "Python 3",
   "language": "python",
   "name": "python3"
  },
  "language_info": {
   "codemirror_mode": {
    "name": "ipython",
    "version": 3
   },
   "file_extension": ".py",
   "mimetype": "text/x-python",
   "name": "python",
   "nbconvert_exporter": "python",
   "pygments_lexer": "ipython3",
   "version": "3.8.8"
  }
 },
 "nbformat": 4,
 "nbformat_minor": 5
}
