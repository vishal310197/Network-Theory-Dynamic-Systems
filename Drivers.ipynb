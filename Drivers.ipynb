{
 "cells": [
  {
   "cell_type": "code",
   "execution_count": 18,
   "id": "e9f5fa3f",
   "metadata": {},
   "outputs": [],
   "source": [
    "#Nash equilibrium\n",
    "def driveeq(a,b,c):\n",
    "    abcf = 5 + a/20 + a/10\n",
    "    abef = 5 + 1 + (b+c)/10\n",
    "    adef = 2 + 6 + (b+c)/10\n",
    "    print(\"abcf\")\n",
    "    print(abcf)\n",
    "    print(\"abef\")\n",
    "    print(abef)\n",
    "    print(\"adef\")\n",
    "    print(adef)"
   ]
  },
  {
   "cell_type": "code",
   "execution_count": 19,
   "id": "315f15ce",
   "metadata": {},
   "outputs": [
    {
     "name": "stdout",
     "output_type": "stream",
     "text": [
      "abcf\n",
      "80.0\n",
      "abef\n",
      "56.0\n",
      "adef\n",
      "58.0\n"
     ]
    }
   ],
   "source": [
    "driveeq(500,200,300)"
   ]
  },
  {
   "cell_type": "code",
   "execution_count": 23,
   "id": "6cbbde78",
   "metadata": {},
   "outputs": [
    {
     "name": "stdout",
     "output_type": "stream",
     "text": [
      "abcf\n",
      "65.0\n",
      "abef\n",
      "66.0\n",
      "adef\n",
      "68.0\n"
     ]
    }
   ],
   "source": [
    "driveeq(400,300,300)"
   ]
  },
  {
   "cell_type": "code",
   "execution_count": 26,
   "id": "5ee573f8",
   "metadata": {},
   "outputs": [
    {
     "name": "stdout",
     "output_type": "stream",
     "text": [
      "abcf\n",
      "65.75\n",
      "abef\n",
      "65.5\n",
      "adef\n",
      "67.5\n"
     ]
    }
   ],
   "source": [
    "driveeq(405,295,300)"
   ]
  },
  {
   "cell_type": "code",
   "execution_count": 36,
   "id": "9f01c672",
   "metadata": {},
   "outputs": [
    {
     "name": "stdout",
     "output_type": "stream",
     "text": [
      "abcf\n",
      "66.5\n",
      "abef\n",
      "65.0\n",
      "adef\n",
      "67.0\n"
     ]
    }
   ],
   "source": [
    "driveeq(410,300,290)"
   ]
  },
  {
   "cell_type": "code",
   "execution_count": 37,
   "id": "ded97772",
   "metadata": {},
   "outputs": [
    {
     "name": "stdout",
     "output_type": "stream",
     "text": [
      "abcf\n",
      "65.0\n",
      "abef\n",
      "66.0\n",
      "adef\n",
      "68.0\n"
     ]
    }
   ],
   "source": [
    "driveeq(400,300,300)"
   ]
  },
  {
   "cell_type": "code",
   "execution_count": 50,
   "id": "b076fb54",
   "metadata": {},
   "outputs": [
    {
     "name": "stdout",
     "output_type": "stream",
     "text": [
      "abcf\n",
      "66.80000000000001\n",
      "abef\n",
      "64.8\n",
      "adef\n",
      "66.8\n"
     ]
    }
   ],
   "source": [
    "driveeq(412,300,288)"
   ]
  },
  {
   "cell_type": "code",
   "execution_count": 67,
   "id": "074557fc",
   "metadata": {},
   "outputs": [
    {
     "name": "stdout",
     "output_type": "stream",
     "text": [
      "abcf\n",
      "65.0\n",
      "abef\n",
      "66.0\n",
      "adef\n",
      "68.0\n"
     ]
    }
   ],
   "source": [
    "driveeq(400,500,100)"
   ]
  },
  {
   "cell_type": "code",
   "execution_count": 75,
   "id": "3958388d",
   "metadata": {},
   "outputs": [
    {
     "name": "stdout",
     "output_type": "stream",
     "text": [
      "abcf\n",
      "65.9\n",
      "abef\n",
      "65.4\n",
      "adef\n",
      "67.4\n"
     ]
    }
   ],
   "source": [
    "driveeq(406,594,0)"
   ]
  },
  {
   "cell_type": "code",
   "execution_count": null,
   "id": "081f4f58",
   "metadata": {},
   "outputs": [],
   "source": []
  },
  {
   "cell_type": "code",
   "execution_count": 20,
   "id": "ab6e9af9",
   "metadata": {},
   "outputs": [],
   "source": []
  },
  {
   "cell_type": "code",
   "execution_count": 12,
   "id": "0bbcbf8d",
   "metadata": {},
   "outputs": [],
   "source": [
    "#Social Optimal"
   ]
  },
  {
   "cell_type": "code",
   "execution_count": 29,
   "id": "cfdfc8fc",
   "metadata": {},
   "outputs": [
    {
     "name": "stdout",
     "output_type": "stream",
     "text": [
      "499\n",
      "500\n",
      "1\n",
      "19990.010000000002\n"
     ]
    }
   ],
   "source": [
    "min_val = 100000\n",
    "min_a = -1\n",
    "min_b = -1\n",
    "min_c = -1\n",
    "for a in range(1001):\n",
    "    for b in range(1001-a):\n",
    "        c = 1000-a-b\n",
    "        \n",
    "        abcf = 10 + 5 + a/100\n",
    "        abef = 10 + b/100 + 5\n",
    "        adef = 5*c + 5 + 5\n",
    "        \n",
    "        total = a*abcf + b*abef + c*adef\n",
    "        \n",
    "        if(total<min_val):\n",
    "            min_a = a\n",
    "            min_b = b\n",
    "            min_c = c\n",
    "            min_val = total\n",
    "print(min_a)\n",
    "print(min_b)\n",
    "print(min_c)\n",
    "print(min_val)\n",
    "    "
   ]
  },
  {
   "cell_type": "code",
   "execution_count": null,
   "id": "b2c5da8c",
   "metadata": {},
   "outputs": [],
   "source": []
  },
  {
   "cell_type": "code",
   "execution_count": 18,
   "id": "61ad903b",
   "metadata": {},
   "outputs": [],
   "source": []
  },
  {
   "cell_type": "code",
   "execution_count": 21,
   "id": "2d14a33e",
   "metadata": {},
   "outputs": [
    {
     "ename": "TypeError",
     "evalue": "Non-constant expressions cannot be multiplied",
     "output_type": "error",
     "traceback": [
      "\u001b[1;31m---------------------------------------------------------------------------\u001b[0m",
      "\u001b[1;31mTypeError\u001b[0m                                 Traceback (most recent call last)",
      "\u001b[1;32m<ipython-input-21-7b65e270dd9f>\u001b[0m in \u001b[0;36m<module>\u001b[1;34m\u001b[0m\n\u001b[0;32m      1\u001b[0m \u001b[1;31m# Objective Function\u001b[0m\u001b[1;33m\u001b[0m\u001b[1;33m\u001b[0m\u001b[1;33m\u001b[0m\u001b[0m\n\u001b[1;32m----> 2\u001b[1;33m \u001b[0mLp_prob\u001b[0m \u001b[1;33m+=\u001b[0m \u001b[0ma\u001b[0m \u001b[1;33m*\u001b[0m \u001b[0mabcf\u001b[0m \u001b[1;33m+\u001b[0m \u001b[0mb\u001b[0m \u001b[1;33m*\u001b[0m \u001b[0mabef\u001b[0m \u001b[1;33m+\u001b[0m \u001b[0mc\u001b[0m \u001b[1;33m*\u001b[0m \u001b[0madef\u001b[0m\u001b[1;33m\u001b[0m\u001b[1;33m\u001b[0m\u001b[0m\n\u001b[0m",
      "\u001b[1;32m~\\anaconda3\\lib\\site-packages\\pulp\\pulp.py\u001b[0m in \u001b[0;36m__mul__\u001b[1;34m(self, other)\u001b[0m\n\u001b[0;32m    193\u001b[0m \u001b[1;33m\u001b[0m\u001b[0m\n\u001b[0;32m    194\u001b[0m     \u001b[1;32mdef\u001b[0m \u001b[0m__mul__\u001b[0m\u001b[1;33m(\u001b[0m\u001b[0mself\u001b[0m\u001b[1;33m,\u001b[0m \u001b[0mother\u001b[0m\u001b[1;33m)\u001b[0m\u001b[1;33m:\u001b[0m\u001b[1;33m\u001b[0m\u001b[1;33m\u001b[0m\u001b[0m\n\u001b[1;32m--> 195\u001b[1;33m         \u001b[1;32mreturn\u001b[0m \u001b[0mLpAffineExpression\u001b[0m\u001b[1;33m(\u001b[0m\u001b[0mself\u001b[0m\u001b[1;33m)\u001b[0m \u001b[1;33m*\u001b[0m \u001b[0mother\u001b[0m\u001b[1;33m\u001b[0m\u001b[1;33m\u001b[0m\u001b[0m\n\u001b[0m\u001b[0;32m    196\u001b[0m \u001b[1;33m\u001b[0m\u001b[0m\n\u001b[0;32m    197\u001b[0m     \u001b[1;32mdef\u001b[0m \u001b[0m__rmul__\u001b[0m\u001b[1;33m(\u001b[0m\u001b[0mself\u001b[0m\u001b[1;33m,\u001b[0m \u001b[0mother\u001b[0m\u001b[1;33m)\u001b[0m\u001b[1;33m:\u001b[0m\u001b[1;33m\u001b[0m\u001b[1;33m\u001b[0m\u001b[0m\n",
      "\u001b[1;32m~\\anaconda3\\lib\\site-packages\\pulp\\pulp.py\u001b[0m in \u001b[0;36m__mul__\u001b[1;34m(self, other)\u001b[0m\n\u001b[0;32m    824\u001b[0m             \u001b[1;32mif\u001b[0m \u001b[0mlen\u001b[0m\u001b[1;33m(\u001b[0m\u001b[0mother\u001b[0m\u001b[1;33m)\u001b[0m\u001b[1;33m:\u001b[0m\u001b[1;33m\u001b[0m\u001b[1;33m\u001b[0m\u001b[0m\n\u001b[0;32m    825\u001b[0m                 \u001b[1;32mif\u001b[0m \u001b[0mlen\u001b[0m\u001b[1;33m(\u001b[0m\u001b[0mself\u001b[0m\u001b[1;33m)\u001b[0m\u001b[1;33m:\u001b[0m\u001b[1;33m\u001b[0m\u001b[1;33m\u001b[0m\u001b[0m\n\u001b[1;32m--> 826\u001b[1;33m                     \u001b[1;32mraise\u001b[0m \u001b[0mTypeError\u001b[0m\u001b[1;33m(\u001b[0m\u001b[1;34m\"Non-constant expressions cannot be multiplied\"\u001b[0m\u001b[1;33m)\u001b[0m\u001b[1;33m\u001b[0m\u001b[1;33m\u001b[0m\u001b[0m\n\u001b[0m\u001b[0;32m    827\u001b[0m                 \u001b[1;32melse\u001b[0m\u001b[1;33m:\u001b[0m\u001b[1;33m\u001b[0m\u001b[1;33m\u001b[0m\u001b[0m\n\u001b[0;32m    828\u001b[0m                     \u001b[0mc\u001b[0m \u001b[1;33m=\u001b[0m \u001b[0mself\u001b[0m\u001b[1;33m.\u001b[0m\u001b[0mconstant\u001b[0m\u001b[1;33m\u001b[0m\u001b[1;33m\u001b[0m\u001b[0m\n",
      "\u001b[1;31mTypeError\u001b[0m: Non-constant expressions cannot be multiplied"
     ]
    }
   ],
   "source": []
  },
  {
   "cell_type": "code",
   "execution_count": null,
   "id": "17d6a598",
   "metadata": {},
   "outputs": [],
   "source": []
  }
 ],
 "metadata": {
  "kernelspec": {
   "display_name": "Python 3",
   "language": "python",
   "name": "python3"
  },
  "language_info": {
   "codemirror_mode": {
    "name": "ipython",
    "version": 3
   },
   "file_extension": ".py",
   "mimetype": "text/x-python",
   "name": "python",
   "nbconvert_exporter": "python",
   "pygments_lexer": "ipython3",
   "version": "3.8.8"
  }
 },
 "nbformat": 4,
 "nbformat_minor": 5
}
