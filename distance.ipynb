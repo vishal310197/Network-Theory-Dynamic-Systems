{
 "cells": [
  {
   "cell_type": "code",
   "execution_count": 1,
   "id": "320a9c67",
   "metadata": {},
   "outputs": [
    {
     "name": "stdout",
     "output_type": "stream",
     "text": [
      "4\n",
      "-1\n",
      "3\n",
      "5\n"
     ]
    }
   ],
   "source": [
    "#generate matrix\n",
    "def getMatrix(row, column, initialiser):\n",
    "    matrix = []\n",
    "\n",
    "    for i in range(row):\n",
    "            rows = []\n",
    "            for j in range(column):\n",
    "                rows.append(initialiser)\n",
    "            matrix.append(rows)\n",
    "    return matrix\n",
    "\n",
    "#generate adjacency matrix\n",
    "def generateMatrix(fileName, vertices, totalVertices):\n",
    "    matrix = getMatrix(totalVertices, totalVertices, 0)\n",
    "\n",
    "    file = open(fileName, \"r\")\n",
    "\n",
    "    for line in file:\n",
    "        node_detail = line.split(\"=\")\n",
    "        node = node_detail[0].strip()\n",
    "        edge_list = node_detail[1].split(\",\")\n",
    "        node_index = vertices.index(node)\n",
    "\n",
    "        for edge in edge_list:\n",
    "            edge = edge.strip()\n",
    "            edge_index = vertices.index(edge)\n",
    "            \n",
    "            matrix[node_index][edge_index] = 1\n",
    "            #matrix[edge_index][node_index] = 1 #graph is undirected\n",
    "\n",
    "    return matrix\n",
    "\n",
    "#getting shortest path\n",
    "def shortestPath(graph, totalVertices, vertices, source, destination):\n",
    "    queue = []\n",
    "    distance = []\n",
    "\n",
    "    for j in range(totalVertices):\n",
    "        distance.append(0)\n",
    "\n",
    "    visitedNodes = []\n",
    "    queue.append(source)\n",
    "    nodeIndex = vertices.index(source)\n",
    "\n",
    "    while len(queue) > 0:\n",
    "        vertex = queue.pop(0)\n",
    "        visitedNodes.append(vertex)\n",
    "        nodeIndex = vertices.index(vertex)\n",
    "    \n",
    "        for i in range(totalVertices):\n",
    "            if graph[nodeIndex][i] == 1 and  vertices[i] not in visitedNodes:\n",
    "                distance[i] = distance[nodeIndex] + 1\n",
    "                if vertices[i] == destination:\n",
    "                    return distance[i]\n",
    "                queue.append(vertices[i])\n",
    "    return -1\n",
    "\n",
    "totalVertices = 12\n",
    "vertices = [\"a\", \"b\", \"c\", \"d\", \"e\", \"f\", \"g\", \"h\", \"i\", \"j\", \"k\", \"l\"]\n",
    "graph =  generateMatrix(\"distance.txt\", vertices, totalVertices)\n",
    "\n",
    "print(shortestPath(graph, totalVertices, vertices, \"f\", \"g\"))\n",
    "print(shortestPath(graph, totalVertices, vertices, \"l\", \"f\"))\n",
    "print(shortestPath(graph, totalVertices, vertices, \"d\", \"a\"))\n",
    "print(shortestPath(graph, totalVertices, vertices, \"f\", \"b\"))\n",
    "\n",
    "\n"
   ]
  },
  {
   "cell_type": "code",
   "execution_count": null,
   "id": "da8a11f6",
   "metadata": {},
   "outputs": [],
   "source": []
  }
 ],
 "metadata": {
  "kernelspec": {
   "display_name": "Python 3",
   "language": "python",
   "name": "python3"
  },
  "language_info": {
   "codemirror_mode": {
    "name": "ipython",
    "version": 3
   },
   "file_extension": ".py",
   "mimetype": "text/x-python",
   "name": "python",
   "nbconvert_exporter": "python",
   "pygments_lexer": "ipython3",
   "version": "3.8.8"
  }
 },
 "nbformat": 4,
 "nbformat_minor": 5
}
